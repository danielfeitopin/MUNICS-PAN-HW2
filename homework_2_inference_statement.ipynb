{
 "cells": [
  {
   "cell_type": "markdown",
   "metadata": {},
   "source": [
    "<img src=https://www.udc.es/export/sites/udc/silazarillo/_galeria_imgs/03_Simbolo_logo_cor.png_2063069294.png width=\"300\" align=\"left\">\n",
    "<br />\n",
    "\n",
    "# PAN: Homework \\#2 - Membership inference\n",
    "#### <font color=green>*Máster Inter-Universitario en Ciberseguridad*</font>\n",
    "\n",
    "Author: Daniel Feito Pin"
   ]
  },
  {
   "cell_type": "markdown",
   "metadata": {},
   "source": [
    "## Statement"
   ]
  },
  {
   "cell_type": "markdown",
   "metadata": {},
   "source": [
    "In this homework, you should implement a membership inference attack on two different models, a Multi-Layer Perceptron (MLP) and a Convolutional Neural Network (CNN) both trained on the CIFAR10 image dataset we already used in Labwork 8.\n",
    "\n",
    "As a reminder, such a dataset consists of 60,000 real photographs divided into 10 classes. The classes include common objects such as airplanes, automobiles, birds, cats, etc. The dataset is already divided into a training set of 50,000 images and a test set consisting of the remaining 10,000 images. The images contain 3 channels (red, green and blue) and have a resolution of 32 x 32 pixels.\n",
    "\n",
    "In the next sections, you are provided with a skeleton of the steps you must follow to perform the attack"
   ]
  },
  {
   "cell_type": "markdown",
   "metadata": {},
   "source": [
    "## Load data"
   ]
  },
  {
   "cell_type": "markdown",
   "metadata": {},
   "source": [
    "Firstly, you must load the dataset. Take into account that the prebuilt data division (training and testing) should be adjusted in order to use approximately 30,000 images (50%) for training/testing and the rest to build the shadow models. The train/test split should be 75% and 25%, respectively."
   ]
  },
  {
   "cell_type": "code",
   "execution_count": 2,
   "metadata": {},
   "outputs": [],
   "source": [
    "import numpy as np\n",
    "from numpy import ndarray\n",
    "from sklearn.model_selection import train_test_split\n",
    "from tensorflow.keras import datasets\n",
    "from tensorflow.keras.utils import to_categorical\n",
    "\n",
    "# Load data\n",
    "(train_images, train_labels), (test_images, test_labels) = datasets.cifar10.load_data()\n",
    "\n",
    "# Join data\n",
    "joined_images: ndarray = np.concatenate((train_images, test_images), axis=0)/255.0\n",
    "joined_labels: ndarray = np.concatenate((train_labels, test_labels), axis=0)\n",
    "del(train_images)\n",
    "del(train_labels)\n",
    "del(test_images)\n",
    "del(test_labels)\n",
    "\n",
    "n_classes: int = len(np.unique(joined_labels))\n",
    "\n",
    "# Split data (50% for training/test and 50% for shadow models)\n",
    "train_test_images, shadow_model_images = np.split(joined_images, 2)\n",
    "train_test_labels, shadow_model_labels = np.split(joined_labels, 2)\n",
    "del(joined_images)\n",
    "del(joined_labels)\n",
    "\n",
    "# Train and test data split\n",
    "X_train, X_test, y_train, y_test = train_test_split(train_test_images, train_test_labels, train_size=0.75)\n",
    "del(train_test_images)\n",
    "del(train_test_labels)"
   ]
  },
  {
   "cell_type": "code",
   "execution_count": 3,
   "metadata": {},
   "outputs": [
    {
     "name": "stdout",
     "output_type": "stream",
     "text": [
      "Training sample: 22500\n",
      "Test sample: 7500\n",
      "Shadow sample: 30000\n"
     ]
    }
   ],
   "source": [
    "print(f'Training sample: {len(X_train)}\\nTest sample: {len(X_test)}\\nShadow sample: {len(shadow_model_images)}')"
   ]
  },
  {
   "cell_type": "markdown",
   "metadata": {},
   "source": [
    "## Train models"
   ]
  },
  {
   "cell_type": "markdown",
   "metadata": {},
   "source": [
    "Now, you should build and train both MLP and CNN models... You can adapt the models used in previous labs!\n",
    "\n",
    "**Warning!:** it may take some time to train the models, so we encourage you to save them to a file, so that you do not have to wait for the training to complete every time you want to run this lab.\n",
    "\n",
    "In addition, **you will be required to upload the training model used to perform the attack**, so that we can reproduce the experiment!"
   ]
  },
  {
   "cell_type": "code",
   "execution_count": 4,
   "metadata": {},
   "outputs": [
    {
     "name": "stdout",
     "output_type": "stream",
     "text": [
      "WARNING:tensorflow:From C:\\Users\\Daniel\\AppData\\Local\\Temp\\ipykernel_20692\\412128681.py:5: The name tf.disable_eager_execution is deprecated. Please use tf.compat.v1.disable_eager_execution instead.\n",
      "\n"
     ]
    }
   ],
   "source": [
    "# You should disable Tensorflow eager execution, otherwise ART attack won't work!!!\n",
    "import tensorflow as tf\n",
    "from tensorflow import keras\n",
    "from tensorflow.keras import layers, models\n",
    "tf.compat.v1.disable_eager_execution()"
   ]
  },
  {
   "cell_type": "markdown",
   "metadata": {},
   "source": [
    "### MLP"
   ]
  },
  {
   "cell_type": "code",
   "execution_count": 5,
   "metadata": {},
   "outputs": [],
   "source": [
    "def nn_model(n_inputs, n_outputs, metrics):\n",
    "    \n",
    "    model = models.Sequential()\n",
    "\n",
    "    model.add(layers.Dense(3000, input_dim=n_inputs, activation='relu'))\n",
    "    model.add(layers.Dense(1000, activation='relu'))\n",
    "    model.add(layers.Dense(400, activation='relu'))\n",
    "    model.add(layers.Dense(n_outputs, activation='softmax'))\n",
    "    \n",
    "    opt = keras.optimizers.legacy.Adam(learning_rate=0.001)\n",
    "    model.compile(loss='categorical_crossentropy', optimizer=opt, metrics=metrics)\n",
    "    \n",
    "    return model"
   ]
  },
  {
   "cell_type": "code",
   "execution_count": 6,
   "metadata": {},
   "outputs": [
    {
     "name": "stdout",
     "output_type": "stream",
     "text": [
      "WARNING:tensorflow:From c:\\Users\\Daniel\\AppData\\Local\\Programs\\Python\\Python311\\Lib\\site-packages\\keras\\src\\utils\\version_utils.py:76: The name tf.executing_eagerly_outside_functions is deprecated. Please use tf.compat.v1.executing_eagerly_outside_functions instead.\n",
      "\n"
     ]
    },
    {
     "name": "stdout",
     "output_type": "stream",
     "text": [
      "Model: \"sequential\"\n",
      "_________________________________________________________________\n",
      " Layer (type)                Output Shape              Param #   \n",
      "=================================================================\n",
      " dense (Dense)               (None, 3000)              9219000   \n",
      "                                                                 \n",
      " dense_1 (Dense)             (None, 1000)              3001000   \n",
      "                                                                 \n",
      " dense_2 (Dense)             (None, 400)               400400    \n",
      "                                                                 \n",
      " dense_3 (Dense)             (None, 10)                4010      \n",
      "                                                                 \n",
      "=================================================================\n",
      "Total params: 12624410 (48.16 MB)\n",
      "Trainable params: 12624410 (48.16 MB)\n",
      "Non-trainable params: 0 (0.00 Byte)\n",
      "_________________________________________________________________\n"
     ]
    }
   ],
   "source": [
    "n_inputs: int = np.prod(X_train.shape[1:])\n",
    "n_outputs: int = n_classes\n",
    "metrics: list[str] = ['accuracy','AUC','Recall','Precision']\n",
    "mlp_model = nn_model(n_inputs, n_outputs, metrics)\n",
    "mlp_model.summary()"
   ]
  },
  {
   "cell_type": "code",
   "execution_count": 7,
   "metadata": {},
   "outputs": [
    {
     "name": "stdout",
     "output_type": "stream",
     "text": [
      "WARNING:tensorflow:From c:\\Users\\Daniel\\AppData\\Local\\Programs\\Python\\Python311\\Lib\\site-packages\\keras\\src\\engine\\training_v1.py:635: The name tf.data.Iterator is deprecated. Please use tf.compat.v1.data.Iterator instead.\n",
      "\n",
      "WARNING:tensorflow:From c:\\Users\\Daniel\\AppData\\Local\\Programs\\Python\\Python311\\Lib\\site-packages\\keras\\src\\engine\\training_utils_v1.py:50: The name tf.ragged.RaggedTensorValue is deprecated. Please use tf.compat.v1.ragged.RaggedTensorValue instead.\n",
      "\n",
      "Train on 22500 samples, validate on 7500 samples\n",
      "Epoch 1/30\n",
      "22500/22500 [==============================] - ETA: 0s - loss: 2.0359 - accuracy: 0.2754 - AUC: 0.7428 - Recall: 0.0408 - Precision: 0.4978"
     ]
    },
    {
     "name": "stderr",
     "output_type": "stream",
     "text": [
      "c:\\Users\\Daniel\\AppData\\Local\\Programs\\Python\\Python311\\Lib\\site-packages\\keras\\src\\engine\\training_v1.py:2335: UserWarning: `Model.state_updates` will be removed in a future version. This property should not be used in TensorFlow 2.0, as `updates` are applied automatically.\n",
      "  updates = self.state_updates\n"
     ]
    },
    {
     "name": "stdout",
     "output_type": "stream",
     "text": [
      "22500/22500 [==============================] - 45s 2ms/sample - loss: 2.0359 - accuracy: 0.2754 - AUC: 0.7428 - Recall: 0.0408 - Precision: 0.4978 - val_loss: 1.7904 - val_accuracy: 0.3479 - val_AUC: 0.8046 - val_Recall: 0.0687 - val_Precision: 0.6342\n",
      "Epoch 2/30\n",
      "22500/22500 [==============================] - 55s 2ms/sample - loss: 1.7863 - accuracy: 0.3503 - AUC: 0.8056 - Recall: 0.1039 - Precision: 0.5919 - val_loss: 1.7582 - val_accuracy: 0.3719 - val_AUC: 0.8114 - val_Recall: 0.1337 - val_Precision: 0.6071\n",
      "Epoch 3/30\n",
      "22500/22500 [==============================] - 55s 2ms/sample - loss: 1.7037 - accuracy: 0.3885 - AUC: 0.8263 - Recall: 0.1347 - Precision: 0.6021 - val_loss: 1.6442 - val_accuracy: 0.4064 - val_AUC: 0.8398 - val_Recall: 0.1437 - val_Precision: 0.6646\n",
      "Epoch 4/30\n",
      "22500/22500 [==============================] - 49s 2ms/sample - loss: 1.6399 - accuracy: 0.4105 - AUC: 0.8407 - Recall: 0.1688 - Precision: 0.6278 - val_loss: 1.6363 - val_accuracy: 0.4111 - val_AUC: 0.8423 - val_Recall: 0.1717 - val_Precision: 0.6174\n",
      "Epoch 5/30\n",
      "22500/22500 [==============================] - 49s 2ms/sample - loss: 1.5939 - accuracy: 0.4258 - AUC: 0.8506 - Recall: 0.1875 - Precision: 0.6362 - val_loss: 1.5883 - val_accuracy: 0.4271 - val_AUC: 0.8526 - val_Recall: 0.2043 - val_Precision: 0.6165\n",
      "Epoch 6/30\n",
      "22500/22500 [==============================] - 48s 2ms/sample - loss: 1.5431 - accuracy: 0.4456 - AUC: 0.8608 - Recall: 0.2174 - Precision: 0.6518 - val_loss: 1.6120 - val_accuracy: 0.4169 - val_AUC: 0.8478 - val_Recall: 0.1936 - val_Precision: 0.6065\n",
      "Epoch 7/30\n",
      "22500/22500 [==============================] - 44s 2ms/sample - loss: 1.5174 - accuracy: 0.4526 - AUC: 0.8659 - Recall: 0.2306 - Precision: 0.6584 - val_loss: 1.6057 - val_accuracy: 0.4209 - val_AUC: 0.8491 - val_Recall: 0.2048 - val_Precision: 0.5926\n",
      "Epoch 8/30\n",
      "22500/22500 [==============================] - 48s 2ms/sample - loss: 1.4685 - accuracy: 0.4729 - AUC: 0.8751 - Recall: 0.2568 - Precision: 0.6764 - val_loss: 1.5980 - val_accuracy: 0.4337 - val_AUC: 0.8524 - val_Recall: 0.2513 - val_Precision: 0.5958\n",
      "Epoch 9/30\n",
      "22500/22500 [==============================] - 52s 2ms/sample - loss: 1.4374 - accuracy: 0.4816 - AUC: 0.8806 - Recall: 0.2702 - Precision: 0.6766 - val_loss: 1.5193 - val_accuracy: 0.4627 - val_AUC: 0.8666 - val_Recall: 0.2509 - val_Precision: 0.6393\n",
      "Epoch 10/30\n",
      "22500/22500 [==============================] - 49s 2ms/sample - loss: 1.4065 - accuracy: 0.4913 - AUC: 0.8861 - Recall: 0.2828 - Precision: 0.6836 - val_loss: 1.5532 - val_accuracy: 0.4501 - val_AUC: 0.8603 - val_Recall: 0.2481 - val_Precision: 0.6319\n",
      "Epoch 11/30\n",
      "22500/22500 [==============================] - 50s 2ms/sample - loss: 1.3716 - accuracy: 0.5052 - AUC: 0.8922 - Recall: 0.3038 - Precision: 0.6898 - val_loss: 1.5595 - val_accuracy: 0.4477 - val_AUC: 0.8610 - val_Recall: 0.2684 - val_Precision: 0.6277\n",
      "Epoch 12/30\n",
      "22500/22500 [==============================] - 54s 2ms/sample - loss: 1.3404 - accuracy: 0.5149 - AUC: 0.8971 - Recall: 0.3202 - Precision: 0.7009 - val_loss: 1.5431 - val_accuracy: 0.4648 - val_AUC: 0.8664 - val_Recall: 0.3104 - val_Precision: 0.5994\n",
      "Epoch 13/30\n",
      "22500/22500 [==============================] - 58s 3ms/sample - loss: 1.2959 - accuracy: 0.5272 - AUC: 0.9040 - Recall: 0.3439 - Precision: 0.7094 - val_loss: 1.5165 - val_accuracy: 0.4703 - val_AUC: 0.8696 - val_Recall: 0.2861 - val_Precision: 0.6505\n",
      "Epoch 14/30\n",
      "22500/22500 [==============================] - 59s 3ms/sample - loss: 1.2691 - accuracy: 0.5369 - AUC: 0.9082 - Recall: 0.3545 - Precision: 0.7100 - val_loss: 1.5538 - val_accuracy: 0.4615 - val_AUC: 0.8653 - val_Recall: 0.3032 - val_Precision: 0.6124\n",
      "Epoch 15/30\n",
      "22500/22500 [==============================] - 57s 3ms/sample - loss: 1.2392 - accuracy: 0.5500 - AUC: 0.9126 - Recall: 0.3732 - Precision: 0.7170 - val_loss: 1.5956 - val_accuracy: 0.4552 - val_AUC: 0.8603 - val_Recall: 0.3045 - val_Precision: 0.6066\n",
      "Epoch 16/30\n",
      "22500/22500 [==============================] - 59s 3ms/sample - loss: 1.1905 - accuracy: 0.5708 - AUC: 0.9194 - Recall: 0.3989 - Precision: 0.7311 - val_loss: 1.5529 - val_accuracy: 0.4648 - val_AUC: 0.8682 - val_Recall: 0.3108 - val_Precision: 0.5915\n",
      "Epoch 17/30\n",
      "22500/22500 [==============================] - 58s 3ms/sample - loss: 1.1577 - accuracy: 0.5798 - AUC: 0.9239 - Recall: 0.4160 - Precision: 0.7361 - val_loss: 1.6518 - val_accuracy: 0.4551 - val_AUC: 0.8563 - val_Recall: 0.3229 - val_Precision: 0.5843\n",
      "Epoch 18/30\n",
      "22500/22500 [==============================] - 37s 2ms/sample - loss: 1.1175 - accuracy: 0.5940 - AUC: 0.9293 - Recall: 0.4387 - Precision: 0.7438 - val_loss: 1.5897 - val_accuracy: 0.4725 - val_AUC: 0.8667 - val_Recall: 0.3387 - val_Precision: 0.5900\n",
      "Epoch 19/30\n",
      "22500/22500 [==============================] - 36s 2ms/sample - loss: 1.0704 - accuracy: 0.6106 - AUC: 0.9353 - Recall: 0.4628 - Precision: 0.7516 - val_loss: 1.6369 - val_accuracy: 0.4659 - val_AUC: 0.8601 - val_Recall: 0.3280 - val_Precision: 0.5817\n",
      "Epoch 20/30\n",
      "22500/22500 [==============================] - 41s 2ms/sample - loss: 1.0290 - accuracy: 0.6229 - AUC: 0.9402 - Recall: 0.4824 - Precision: 0.7601 - val_loss: 1.6768 - val_accuracy: 0.4593 - val_AUC: 0.8589 - val_Recall: 0.3403 - val_Precision: 0.5761\n",
      "Epoch 21/30\n",
      "22500/22500 [==============================] - 39s 2ms/sample - loss: 0.9909 - accuracy: 0.6416 - AUC: 0.9444 - Recall: 0.5093 - Precision: 0.7700 - val_loss: 1.6831 - val_accuracy: 0.4673 - val_AUC: 0.8619 - val_Recall: 0.3533 - val_Precision: 0.5652\n",
      "Epoch 22/30\n",
      "22500/22500 [==============================] - 37s 2ms/sample - loss: 0.9345 - accuracy: 0.6627 - AUC: 0.9505 - Recall: 0.5344 - Precision: 0.7825 - val_loss: 1.7724 - val_accuracy: 0.4620 - val_AUC: 0.8560 - val_Recall: 0.3601 - val_Precision: 0.5482\n",
      "Epoch 23/30\n",
      "22500/22500 [==============================] - 37s 2ms/sample - loss: 0.8941 - accuracy: 0.6742 - AUC: 0.9548 - Recall: 0.5599 - Precision: 0.7878 - val_loss: 1.8098 - val_accuracy: 0.4700 - val_AUC: 0.8550 - val_Recall: 0.3771 - val_Precision: 0.5530\n",
      "Epoch 24/30\n",
      "22500/22500 [==============================] - 37s 2ms/sample - loss: 0.8580 - accuracy: 0.6888 - AUC: 0.9583 - Recall: 0.5798 - Precision: 0.7951 - val_loss: 1.9257 - val_accuracy: 0.4592 - val_AUC: 0.8486 - val_Recall: 0.3692 - val_Precision: 0.5408\n",
      "Epoch 25/30\n",
      "22500/22500 [==============================] - 37s 2ms/sample - loss: 0.8053 - accuracy: 0.7067 - AUC: 0.9632 - Recall: 0.6037 - Precision: 0.8088 - val_loss: 1.9256 - val_accuracy: 0.4556 - val_AUC: 0.8472 - val_Recall: 0.3676 - val_Precision: 0.5305\n",
      "Epoch 26/30\n",
      "22500/22500 [==============================] - 37s 2ms/sample - loss: 0.7685 - accuracy: 0.7173 - AUC: 0.9664 - Recall: 0.6258 - Precision: 0.8103 - val_loss: 2.0018 - val_accuracy: 0.4637 - val_AUC: 0.8462 - val_Recall: 0.3896 - val_Precision: 0.5332\n",
      "Epoch 27/30\n",
      "22500/22500 [==============================] - 37s 2ms/sample - loss: 0.7316 - accuracy: 0.7333 - AUC: 0.9692 - Recall: 0.6482 - Precision: 0.8202 - val_loss: 2.2475 - val_accuracy: 0.4428 - val_AUC: 0.8298 - val_Recall: 0.3701 - val_Precision: 0.4954\n",
      "Epoch 28/30\n",
      "22500/22500 [==============================] - 37s 2ms/sample - loss: 0.6839 - accuracy: 0.7504 - AUC: 0.9731 - Recall: 0.6720 - Precision: 0.8296 - val_loss: 2.1908 - val_accuracy: 0.4448 - val_AUC: 0.8361 - val_Recall: 0.3829 - val_Precision: 0.5040\n",
      "Epoch 29/30\n",
      "22500/22500 [==============================] - 38s 2ms/sample - loss: 0.6556 - accuracy: 0.7622 - AUC: 0.9753 - Recall: 0.6880 - Precision: 0.8378 - val_loss: 2.2998 - val_accuracy: 0.4517 - val_AUC: 0.8336 - val_Recall: 0.3980 - val_Precision: 0.5025\n",
      "Epoch 30/30\n",
      "22500/22500 [==============================] - 37s 2ms/sample - loss: 0.6196 - accuracy: 0.7735 - AUC: 0.9778 - Recall: 0.7049 - Precision: 0.8430 - val_loss: 2.3334 - val_accuracy: 0.4479 - val_AUC: 0.8316 - val_Recall: 0.3927 - val_Precision: 0.4969\n"
     ]
    }
   ],
   "source": [
    "# Training...\n",
    "X_train_reshaped: ndarray = X_train.reshape(-1, np.prod(X_train.shape[1:]))\n",
    "X_test_reshaped: ndarray = X_test.reshape(-1, np.prod(X_test.shape[1:]))\n",
    "y_train_cat: ndarray = to_categorical(y_train, num_classes=n_classes)\n",
    "y_test_cat: ndarray = to_categorical(y_test, num_classes=n_classes)\n",
    "\n",
    "history = mlp_model.fit(X_train_reshaped, y_train_cat, validation_data=(X_test_reshaped, y_test_cat), epochs=30, batch_size=40)"
   ]
  },
  {
   "cell_type": "code",
   "execution_count": 8,
   "metadata": {},
   "outputs": [
    {
     "data": {
      "image/png": "[encoded data removed]",
      "text/plain": [
       "<Figure size 640x480 with 1 Axes>"
      ]
     },
     "metadata": {},
     "output_type": "display_data"
    }
   ],
   "source": [
    "from matplotlib import pyplot as plt\n",
    "plt.plot(history.history['accuracy'])\n",
    "plt.plot(history.history['val_accuracy'])\n",
    "plt.title('Acuracy of the model')\n",
    "plt.ylabel('Accuracy')\n",
    "plt.xlabel('Epoch')\n",
    "plt.legend(['Training', 'Test'], loc='lower right')\n",
    "plt.show()"
   ]
  },
  {
   "cell_type": "code",
   "execution_count": 9,
   "metadata": {},
   "outputs": [],
   "source": [
    "# Save weights\n",
    "PATH_TO_WEIGHTS = './homework_checkpoints/mlp.h5'\n",
    "mlp_model.save_weights(PATH_TO_WEIGHTS)"
   ]
  },
  {
   "cell_type": "code",
   "execution_count": 10,
   "metadata": {},
   "outputs": [],
   "source": [
    "# Load weights\n",
    "mlp_model.load_weights(PATH_TO_WEIGHTS)"
   ]
  },
  {
   "cell_type": "markdown",
   "metadata": {},
   "source": [
    "### CNN"
   ]
  },
  {
   "cell_type": "code",
   "execution_count": 11,
   "metadata": {},
   "outputs": [],
   "source": [
    "def cnn(metrics):\n",
    "    model = models.Sequential()\n",
    "    \n",
    "    model.add(layers.Conv2D(32, (3, 3), activation='relu', kernel_initializer='he_uniform', padding='same', input_shape=(32, 32, 3)))\n",
    "    model.add(layers.Conv2D(32, (3, 3), activation='relu', kernel_initializer='he_uniform', padding='same'))\n",
    "    model.add(layers.MaxPooling2D((2, 2)))\n",
    "    model.add(layers.Dropout(0.2))\n",
    "    model.add(layers.Conv2D(64, (3, 3), activation='relu', kernel_initializer='he_uniform', padding='same'))\n",
    "    model.add(layers.Conv2D(64, (3, 3), activation='relu', kernel_initializer='he_uniform', padding='same'))\n",
    "    model.add(layers.MaxPooling2D((2, 2)))\n",
    "    model.add(layers.Dropout(0.2))\n",
    "    model.add(layers.Conv2D(128, (3, 3), activation='relu', kernel_initializer='he_uniform', padding='same'))\n",
    "    model.add(layers.Conv2D(128, (3, 3), activation='relu', kernel_initializer='he_uniform', padding='same'))\n",
    "    model.add(layers.MaxPooling2D((2, 2)))\n",
    "    model.add(layers.Dropout(0.2))\n",
    "    model.add(layers.Flatten())\n",
    "    model.add(layers.Dense(128, activation='relu', kernel_initializer='he_uniform'))\n",
    "    model.add(layers.Dropout(0.2))\n",
    "    model.add(layers.Dense(10))\n",
    "    \n",
    "    opt = keras.optimizers.legacy.Adam(learning_rate=0.001) \n",
    "    model.compile(loss=tf.keras.losses.SparseCategoricalCrossentropy(from_logits=True), optimizer=opt, metrics=metrics)\n",
    "    \n",
    "    return model"
   ]
  },
  {
   "cell_type": "code",
   "execution_count": 12,
   "metadata": {},
   "outputs": [
    {
     "name": "stdout",
     "output_type": "stream",
     "text": [
      "WARNING:tensorflow:From c:\\Users\\Daniel\\AppData\\Local\\Programs\\Python\\Python311\\Lib\\site-packages\\keras\\src\\layers\\pooling\\max_pooling2d.py:161: The name tf.nn.max_pool is deprecated. Please use tf.nn.max_pool2d instead.\n",
      "\n",
      "Model: \"sequential_1\"\n",
      "_________________________________________________________________\n",
      " Layer (type)                Output Shape              Param #   \n",
      "=================================================================\n",
      " conv2d (Conv2D)             (None, 32, 32, 32)        896       \n",
      "                                                                 \n",
      " conv2d_1 (Conv2D)           (None, 32, 32, 32)        9248      \n",
      "                                                                 \n",
      " max_pooling2d (MaxPooling2  (None, 16, 16, 32)        0         \n",
      " D)                                                              \n",
      "                                                                 \n",
      " dropout (Dropout)           (None, 16, 16, 32)        0         \n",
      "                                                                 \n",
      " conv2d_2 (Conv2D)           (None, 16, 16, 64)        18496     \n",
      "                                                                 \n",
      " conv2d_3 (Conv2D)           (None, 16, 16, 64)        36928     \n",
      "                                                                 \n",
      " max_pooling2d_1 (MaxPoolin  (None, 8, 8, 64)          0         \n",
      " g2D)                                                            \n",
      "                                                                 \n",
      " dropout_1 (Dropout)         (None, 8, 8, 64)          0         \n",
      "                                                                 \n",
      " conv2d_4 (Conv2D)           (None, 8, 8, 128)         73856     \n",
      "                                                                 \n",
      " conv2d_5 (Conv2D)           (None, 8, 8, 128)         147584    \n",
      "                                                                 \n",
      " max_pooling2d_2 (MaxPoolin  (None, 4, 4, 128)         0         \n",
      " g2D)                                                            \n",
      "                                                                 \n",
      " dropout_2 (Dropout)         (None, 4, 4, 128)         0         \n",
      "                                                                 \n",
      " flatten (Flatten)           (None, 2048)              0         \n",
      "                                                                 \n",
      " dense_4 (Dense)             (None, 128)               262272    \n",
      "                                                                 \n",
      " dropout_3 (Dropout)         (None, 128)               0         \n",
      "                                                                 \n",
      " dense_5 (Dense)             (None, 10)                1290      \n",
      "                                                                 \n",
      "=================================================================\n",
      "Total params: 550570 (2.10 MB)\n",
      "Trainable params: 550570 (2.10 MB)\n",
      "Non-trainable params: 0 (0.00 Byte)\n",
      "_________________________________________________________________\n"
     ]
    }
   ],
   "source": [
    "cnn_model = cnn(['accuracy'])\n",
    "cnn_model.summary()"
   ]
  },
  {
   "cell_type": "code",
   "execution_count": 13,
   "metadata": {},
   "outputs": [
    {
     "name": "stdout",
     "output_type": "stream",
     "text": [
      "Train on 22500 samples, validate on 7500 samples\n",
      "Epoch 1/30\n",
      "22480/22500 [============================>.] - ETA: 0s - loss: 1.8561 - accuracy: 0.3102"
     ]
    },
    {
     "name": "stderr",
     "output_type": "stream",
     "text": [
      "c:\\Users\\Daniel\\AppData\\Local\\Programs\\Python\\Python311\\Lib\\site-packages\\keras\\src\\engine\\training_v1.py:2335: UserWarning: `Model.state_updates` will be removed in a future version. This property should not be used in TensorFlow 2.0, as `updates` are applied automatically.\n",
      "  updates = self.state_updates\n"
     ]
    },
    {
     "name": "stdout",
     "output_type": "stream",
     "text": [
      "22500/22500 [==============================] - 36s 2ms/sample - loss: 1.8557 - accuracy: 0.3103 - val_loss: 1.5270 - val_accuracy: 0.4393\n",
      "Epoch 2/30\n",
      "22500/22500 [==============================] - 36s 2ms/sample - loss: 1.4281 - accuracy: 0.4753 - val_loss: 1.2260 - val_accuracy: 0.5472\n",
      "Epoch 3/30\n",
      "22500/22500 [==============================] - 36s 2ms/sample - loss: 1.2415 - accuracy: 0.5514 - val_loss: 1.1382 - val_accuracy: 0.5837\n",
      "Epoch 4/30\n",
      "22500/22500 [==============================] - 36s 2ms/sample - loss: 1.0879 - accuracy: 0.6128 - val_loss: 1.0320 - val_accuracy: 0.6323\n",
      "Epoch 5/30\n",
      "22500/22500 [==============================] - 37s 2ms/sample - loss: 0.9815 - accuracy: 0.6532 - val_loss: 0.9447 - val_accuracy: 0.6643\n",
      "Epoch 6/30\n",
      "22500/22500 [==============================] - 36s 2ms/sample - loss: 0.8985 - accuracy: 0.6824 - val_loss: 0.9038 - val_accuracy: 0.6827\n",
      "Epoch 7/30\n",
      "22500/22500 [==============================] - 36s 2ms/sample - loss: 0.8231 - accuracy: 0.7104 - val_loss: 0.8798 - val_accuracy: 0.6915\n",
      "Epoch 8/30\n",
      "22500/22500 [==============================] - 37s 2ms/sample - loss: 0.7761 - accuracy: 0.7233 - val_loss: 0.8632 - val_accuracy: 0.7039\n",
      "Epoch 9/30\n",
      "22500/22500 [==============================] - 37s 2ms/sample - loss: 0.7235 - accuracy: 0.7444 - val_loss: 0.8511 - val_accuracy: 0.7117\n",
      "Epoch 10/30\n",
      "22500/22500 [==============================] - 37s 2ms/sample - loss: 0.6811 - accuracy: 0.7603 - val_loss: 0.7865 - val_accuracy: 0.7252\n",
      "Epoch 11/30\n",
      "22500/22500 [==============================] - 36s 2ms/sample - loss: 0.6393 - accuracy: 0.7735 - val_loss: 0.8148 - val_accuracy: 0.7239\n",
      "Epoch 12/30\n",
      "22500/22500 [==============================] - 37s 2ms/sample - loss: 0.6010 - accuracy: 0.7862 - val_loss: 0.8032 - val_accuracy: 0.7224\n",
      "Epoch 13/30\n",
      "22500/22500 [==============================] - 37s 2ms/sample - loss: 0.5702 - accuracy: 0.7956 - val_loss: 0.8312 - val_accuracy: 0.7247\n",
      "Epoch 14/30\n",
      "22500/22500 [==============================] - 37s 2ms/sample - loss: 0.5449 - accuracy: 0.8065 - val_loss: 0.7946 - val_accuracy: 0.7307\n",
      "Epoch 15/30\n",
      "22500/22500 [==============================] - 37s 2ms/sample - loss: 0.5150 - accuracy: 0.8178 - val_loss: 0.8165 - val_accuracy: 0.7337\n",
      "Epoch 16/30\n",
      "22500/22500 [==============================] - 37s 2ms/sample - loss: 0.5097 - accuracy: 0.8200 - val_loss: 0.7982 - val_accuracy: 0.7387\n",
      "Epoch 17/30\n",
      "22500/22500 [==============================] - 38s 2ms/sample - loss: 0.4746 - accuracy: 0.8333 - val_loss: 0.9523 - val_accuracy: 0.7219\n",
      "Epoch 18/30\n",
      "22500/22500 [==============================] - 37s 2ms/sample - loss: 0.4549 - accuracy: 0.8397 - val_loss: 0.8498 - val_accuracy: 0.7328\n",
      "Epoch 19/30\n",
      "22500/22500 [==============================] - 37s 2ms/sample - loss: 0.4427 - accuracy: 0.8432 - val_loss: 0.8251 - val_accuracy: 0.7355\n",
      "Epoch 20/30\n",
      "22500/22500 [==============================] - 37s 2ms/sample - loss: 0.4320 - accuracy: 0.8491 - val_loss: 0.8412 - val_accuracy: 0.7399\n",
      "Epoch 21/30\n",
      "22500/22500 [==============================] - 37s 2ms/sample - loss: 0.4066 - accuracy: 0.8551 - val_loss: 0.8095 - val_accuracy: 0.7521\n",
      "Epoch 22/30\n",
      "22500/22500 [==============================] - 37s 2ms/sample - loss: 0.3956 - accuracy: 0.8576 - val_loss: 0.9101 - val_accuracy: 0.7453\n",
      "Epoch 23/30\n",
      "22500/22500 [==============================] - 37s 2ms/sample - loss: 0.3990 - accuracy: 0.8578 - val_loss: 0.8358 - val_accuracy: 0.7495\n",
      "Epoch 24/30\n",
      "22500/22500 [==============================] - 37s 2ms/sample - loss: 0.3822 - accuracy: 0.8630 - val_loss: 0.8571 - val_accuracy: 0.7440\n",
      "Epoch 25/30\n",
      "22500/22500 [==============================] - 38s 2ms/sample - loss: 0.3745 - accuracy: 0.8676 - val_loss: 0.8940 - val_accuracy: 0.7488\n",
      "Epoch 26/30\n",
      "22500/22500 [==============================] - 37s 2ms/sample - loss: 0.3512 - accuracy: 0.8752 - val_loss: 0.8848 - val_accuracy: 0.7447\n",
      "Epoch 27/30\n",
      "22500/22500 [==============================] - 37s 2ms/sample - loss: 0.3499 - accuracy: 0.8776 - val_loss: 0.8962 - val_accuracy: 0.7429\n",
      "Epoch 28/30\n",
      "22500/22500 [==============================] - 37s 2ms/sample - loss: 0.3418 - accuracy: 0.8793 - val_loss: 0.9197 - val_accuracy: 0.7453\n",
      "Epoch 29/30\n",
      "22500/22500 [==============================] - 37s 2ms/sample - loss: 0.3292 - accuracy: 0.8829 - val_loss: 0.8983 - val_accuracy: 0.7472\n",
      "Epoch 30/30\n",
      "22500/22500 [==============================] - 37s 2ms/sample - loss: 0.3277 - accuracy: 0.8839 - val_loss: 0.8831 - val_accuracy: 0.7523\n"
     ]
    }
   ],
   "source": [
    "# Training...\n",
    "history = cnn_model.fit(X_train, y_train, validation_data=(X_test, y_test), epochs=30, batch_size=40)"
   ]
  },
  {
   "cell_type": "code",
   "execution_count": 14,
   "metadata": {},
   "outputs": [
    {
     "data": {
      "image/png": "[encoded data removed]",
      "text/plain": [
       "<Figure size 640x480 with 1 Axes>"
      ]
     },
     "metadata": {},
     "output_type": "display_data"
    }
   ],
   "source": [
    "from matplotlib import pyplot as plt\n",
    "plt.plot(history.history['accuracy'])\n",
    "plt.plot(history.history['val_accuracy'])\n",
    "plt.title('Acuracy of the model')\n",
    "plt.ylabel('Accuracy')\n",
    "plt.xlabel('Epoch')\n",
    "plt.legend(['Training', 'Test'], loc='lower right')\n",
    "plt.show()"
   ]
  },
  {
   "cell_type": "code",
   "execution_count": 15,
   "metadata": {},
   "outputs": [],
   "source": [
    "# Save weights... Update your path!!\n",
    "cnn_model.save_weights('./homework_checkpoints/cnn.h5')"
   ]
  },
  {
   "cell_type": "code",
   "execution_count": 16,
   "metadata": {},
   "outputs": [],
   "source": [
    "# Load weights... Update your path!!\n",
    "cnn_model.load_weights('./homework_checkpoints/cnn.h5')"
   ]
  },
  {
   "cell_type": "markdown",
   "metadata": {},
   "source": [
    "## Train shadow models"
   ]
  },
  {
   "cell_type": "markdown",
   "metadata": {},
   "source": [
    "You should train three shadow models for each one of your classifiers (MLP and CNN), using a shadow dataset based on the data you have previously isolated for this purpose.\n",
    "\n",
    "Compute the accuracy obtained for such models!"
   ]
  },
  {
   "cell_type": "markdown",
   "metadata": {},
   "source": [
    "### MLP"
   ]
  },
  {
   "cell_type": "code",
   "execution_count": 17,
   "metadata": {},
   "outputs": [
    {
     "name": "stdout",
     "output_type": "stream",
     "text": [
      "Train on 15000 samples\n",
      "Epoch 1/20\n",
      "15000/15000 [==============================] - 9s 582us/sample - loss: 3.7339 - accuracy: 0.2089 - AUC: 0.6672 - Recall: 0.0199 - Precision: 0.2037\n",
      "Epoch 2/20\n",
      "15000/15000 [==============================] - 8s 562us/sample - loss: 1.8874 - accuracy: 0.3167 - AUC: 0.7753 - Recall: 0.0499 - Precision: 0.5741\n",
      "Epoch 3/20\n",
      "15000/15000 [==============================] - 8s 555us/sample - loss: 1.7964 - accuracy: 0.3526 - AUC: 0.8018 - Recall: 0.0946 - Precision: 0.6003\n",
      "Epoch 4/20\n",
      "15000/15000 [==============================] - 8s 563us/sample - loss: 1.7363 - accuracy: 0.3729 - AUC: 0.8173 - Recall: 0.1249 - Precision: 0.6129\n",
      "Epoch 5/20\n",
      "15000/15000 [==============================] - 9s 570us/sample - loss: 1.6921 - accuracy: 0.3911 - AUC: 0.8285 - Recall: 0.1431 - Precision: 0.6365\n",
      "Epoch 6/20\n",
      "15000/15000 [==============================] - 9s 628us/sample - loss: 1.6548 - accuracy: 0.4059 - AUC: 0.8370 - Recall: 0.1655 - Precision: 0.6374\n",
      "Epoch 7/20\n",
      "15000/15000 [==============================] - 10s 641us/sample - loss: 1.6144 - accuracy: 0.4255 - AUC: 0.8454 - Recall: 0.1860 - Precision: 0.6607\n",
      "Epoch 8/20\n",
      "15000/15000 [==============================] - 10s 645us/sample - loss: 1.5946 - accuracy: 0.4271 - AUC: 0.8497 - Recall: 0.1944 - Precision: 0.6673\n",
      "Epoch 9/20\n",
      "15000/15000 [==============================] - 10s 640us/sample - loss: 1.5589 - accuracy: 0.4411 - AUC: 0.8573 - Recall: 0.2097 - Precision: 0.6685\n",
      "Epoch 10/20\n",
      "15000/15000 [==============================] - 10s 640us/sample - loss: 1.5359 - accuracy: 0.4538 - AUC: 0.8617 - Recall: 0.2226 - Precision: 0.6685\n",
      "Epoch 11/20\n",
      "15000/15000 [==============================] - 10s 648us/sample - loss: 1.5199 - accuracy: 0.4588 - AUC: 0.8647 - Recall: 0.2285 - Precision: 0.6724\n",
      "Epoch 12/20\n",
      "15000/15000 [==============================] - 10s 649us/sample - loss: 1.4850 - accuracy: 0.4692 - AUC: 0.8715 - Recall: 0.2459 - Precision: 0.6874\n",
      "Epoch 13/20\n",
      "15000/15000 [==============================] - 10s 641us/sample - loss: 1.4633 - accuracy: 0.4754 - AUC: 0.8757 - Recall: 0.2557 - Precision: 0.6902\n",
      "Epoch 14/20\n",
      "15000/15000 [==============================] - 10s 651us/sample - loss: 1.4416 - accuracy: 0.4839 - AUC: 0.8795 - Recall: 0.2633 - Precision: 0.6980\n",
      "Epoch 15/20\n",
      "15000/15000 [==============================] - 10s 648us/sample - loss: 1.4327 - accuracy: 0.4894 - AUC: 0.8808 - Recall: 0.2793 - Precision: 0.6965\n",
      "Epoch 16/20\n",
      "15000/15000 [==============================] - 10s 648us/sample - loss: 1.4099 - accuracy: 0.4981 - AUC: 0.8852 - Recall: 0.2863 - Precision: 0.7029\n",
      "Epoch 17/20\n",
      "15000/15000 [==============================] - 10s 657us/sample - loss: 1.3894 - accuracy: 0.5027 - AUC: 0.8886 - Recall: 0.2957 - Precision: 0.7090\n",
      "Epoch 18/20\n",
      "15000/15000 [==============================] - 10s 654us/sample - loss: 1.3628 - accuracy: 0.5153 - AUC: 0.8931 - Recall: 0.3068 - Precision: 0.7136\n",
      "Epoch 19/20\n",
      "15000/15000 [==============================] - 10s 659us/sample - loss: 1.3477 - accuracy: 0.5153 - AUC: 0.8954 - Recall: 0.3163 - Precision: 0.7149\n",
      "Epoch 20/20\n",
      "15000/15000 [==============================] - 10s 660us/sample - loss: 1.3536 - accuracy: 0.5137 - AUC: 0.8946 - Recall: 0.3186 - Precision: 0.7079\n"
     ]
    },
    {
     "name": "stderr",
     "output_type": "stream",
     "text": [
      "c:\\Users\\Daniel\\AppData\\Local\\Programs\\Python\\Python311\\Lib\\site-packages\\keras\\src\\engine\\training_v1.py:2359: UserWarning: `Model.state_updates` will be removed in a future version. This property should not be used in TensorFlow 2.0, as `updates` are applied automatically.\n",
      "  updates=self.state_updates,\n"
     ]
    },
    {
     "name": "stdout",
     "output_type": "stream",
     "text": [
      "Train on 15000 samples\n",
      "Epoch 1/20\n",
      "15000/15000 [==============================] - 9s 619us/sample - loss: 4.4652 - accuracy: 0.2257 - AUC: 0.6791 - Recall: 0.0256 - Precision: 0.2305\n",
      "Epoch 2/20\n",
      "15000/15000 [==============================] - 9s 608us/sample - loss: 1.8474 - accuracy: 0.3293 - AUC: 0.7879 - Recall: 0.0761 - Precision: 0.5777\n",
      "Epoch 3/20\n",
      "15000/15000 [==============================] - 9s 615us/sample - loss: 1.7526 - accuracy: 0.3693 - AUC: 0.8138 - Recall: 0.1077 - Precision: 0.6031\n",
      "Epoch 4/20\n",
      "15000/15000 [==============================] - 9s 603us/sample - loss: 1.7169 - accuracy: 0.3817 - AUC: 0.8228 - Recall: 0.1262 - Precision: 0.6128\n",
      "Epoch 5/20\n",
      "15000/15000 [==============================] - 10s 653us/sample - loss: 1.6824 - accuracy: 0.3980 - AUC: 0.8307 - Recall: 0.1433 - Precision: 0.6293\n",
      "Epoch 6/20\n",
      "15000/15000 [==============================] - 9s 628us/sample - loss: 1.6471 - accuracy: 0.4073 - AUC: 0.8386 - Recall: 0.1577 - Precision: 0.6418\n",
      "Epoch 7/20\n",
      "15000/15000 [==============================] - 9s 631us/sample - loss: 1.6076 - accuracy: 0.4235 - AUC: 0.8476 - Recall: 0.1750 - Precision: 0.6382\n",
      "Epoch 8/20\n",
      "15000/15000 [==============================] - 10s 643us/sample - loss: 1.5878 - accuracy: 0.4268 - AUC: 0.8514 - Recall: 0.1930 - Precision: 0.6522\n",
      "Epoch 9/20\n",
      "15000/15000 [==============================] - 10s 685us/sample - loss: 1.5604 - accuracy: 0.4405 - AUC: 0.8571 - Recall: 0.2022 - Precision: 0.6670\n",
      "Epoch 10/20\n",
      "15000/15000 [==============================] - 10s 655us/sample - loss: 1.5247 - accuracy: 0.4547 - AUC: 0.8641 - Recall: 0.2241 - Precision: 0.6719\n",
      "Epoch 11/20\n",
      "15000/15000 [==============================] - 10s 650us/sample - loss: 1.5099 - accuracy: 0.4601 - AUC: 0.8671 - Recall: 0.2291 - Precision: 0.6721\n",
      "Epoch 12/20\n",
      "15000/15000 [==============================] - 10s 651us/sample - loss: 1.4918 - accuracy: 0.4641 - AUC: 0.8706 - Recall: 0.2379 - Precision: 0.6765\n",
      "Epoch 13/20\n",
      "15000/15000 [==============================] - 10s 655us/sample - loss: 1.4567 - accuracy: 0.4790 - AUC: 0.8770 - Recall: 0.2557 - Precision: 0.6940\n",
      "Epoch 14/20\n",
      "15000/15000 [==============================] - 10s 658us/sample - loss: 1.4486 - accuracy: 0.4790 - AUC: 0.8785 - Recall: 0.2594 - Precision: 0.6843\n",
      "Epoch 15/20\n",
      "15000/15000 [==============================] - 10s 653us/sample - loss: 1.4229 - accuracy: 0.4879 - AUC: 0.8829 - Recall: 0.2720 - Precision: 0.6983\n",
      "Epoch 16/20\n",
      "15000/15000 [==============================] - 10s 672us/sample - loss: 1.4015 - accuracy: 0.5010 - AUC: 0.8869 - Recall: 0.2833 - Precision: 0.6962\n",
      "Epoch 17/20\n",
      "15000/15000 [==============================] - 10s 650us/sample - loss: 1.3847 - accuracy: 0.5049 - AUC: 0.8899 - Recall: 0.2922 - Precision: 0.7036\n",
      "Epoch 18/20\n",
      "15000/15000 [==============================] - 10s 647us/sample - loss: 1.3663 - accuracy: 0.5134 - AUC: 0.8929 - Recall: 0.3031 - Precision: 0.7094\n",
      "Epoch 19/20\n",
      "15000/15000 [==============================] - 10s 645us/sample - loss: 1.3480 - accuracy: 0.5202 - AUC: 0.8958 - Recall: 0.3144 - Precision: 0.7180\n",
      "Epoch 20/20\n",
      "15000/15000 [==============================] - 10s 654us/sample - loss: 1.3222 - accuracy: 0.5262 - AUC: 0.9000 - Recall: 0.3241 - Precision: 0.7165\n",
      "Train on 15000 samples\n",
      "Epoch 1/20\n",
      "15000/15000 [==============================] - 13s 874us/sample - loss: 3.9619 - accuracy: 0.2137 - AUC: 0.6706 - Recall: 0.0201 - Precision: 0.2184\n",
      "Epoch 2/20\n",
      "15000/15000 [==============================] - 11s 709us/sample - loss: 1.8742 - accuracy: 0.3125 - AUC: 0.7809 - Recall: 0.0489 - Precision: 0.5587\n",
      "Epoch 3/20\n",
      "15000/15000 [==============================] - 9s 612us/sample - loss: 1.7813 - accuracy: 0.3548 - AUC: 0.8068 - Recall: 0.0908 - Precision: 0.5868\n",
      "Epoch 4/20\n",
      "15000/15000 [==============================] - 9s 619us/sample - loss: 1.7183 - accuracy: 0.3775 - AUC: 0.8225 - Recall: 0.1189 - Precision: 0.6202\n",
      "Epoch 5/20\n",
      "15000/15000 [==============================] - 9s 610us/sample - loss: 1.6725 - accuracy: 0.4017 - AUC: 0.8329 - Recall: 0.1471 - Precision: 0.6279\n",
      "Epoch 6/20\n",
      "15000/15000 [==============================] - 9s 613us/sample - loss: 1.6354 - accuracy: 0.4076 - AUC: 0.8414 - Recall: 0.1597 - Precision: 0.6340\n",
      "Epoch 7/20\n",
      "15000/15000 [==============================] - 9s 619us/sample - loss: 1.6035 - accuracy: 0.4238 - AUC: 0.8481 - Recall: 0.1749 - Precision: 0.6501\n",
      "Epoch 8/20\n",
      "15000/15000 [==============================] - 10s 641us/sample - loss: 1.5726 - accuracy: 0.4370 - AUC: 0.8546 - Recall: 0.1944 - Precision: 0.6579\n",
      "Epoch 9/20\n",
      "15000/15000 [==============================] - 9s 616us/sample - loss: 1.5491 - accuracy: 0.4410 - AUC: 0.8595 - Recall: 0.2063 - Precision: 0.6528\n",
      "Epoch 10/20\n",
      "15000/15000 [==============================] - 9s 615us/sample - loss: 1.5311 - accuracy: 0.4519 - AUC: 0.8628 - Recall: 0.2199 - Precision: 0.6657\n",
      "Epoch 11/20\n",
      "15000/15000 [==============================] - 9s 604us/sample - loss: 1.4970 - accuracy: 0.4611 - AUC: 0.8697 - Recall: 0.2307 - Precision: 0.6741\n",
      "Epoch 12/20\n",
      "15000/15000 [==============================] - 9s 615us/sample - loss: 1.4809 - accuracy: 0.4681 - AUC: 0.8727 - Recall: 0.2369 - Precision: 0.6723\n",
      "Epoch 13/20\n",
      "15000/15000 [==============================] - 9s 623us/sample - loss: 1.4550 - accuracy: 0.4758 - AUC: 0.8773 - Recall: 0.2527 - Precision: 0.6857\n",
      "Epoch 14/20\n",
      "15000/15000 [==============================] - 9s 615us/sample - loss: 1.4283 - accuracy: 0.4865 - AUC: 0.8821 - Recall: 0.2687 - Precision: 0.6900\n",
      "Epoch 15/20\n",
      "15000/15000 [==============================] - 10s 642us/sample - loss: 1.4092 - accuracy: 0.4925 - AUC: 0.8856 - Recall: 0.2782 - Precision: 0.6990\n",
      "Epoch 16/20\n",
      "15000/15000 [==============================] - 10s 643us/sample - loss: 1.4002 - accuracy: 0.4948 - AUC: 0.8871 - Recall: 0.2811 - Precision: 0.6959\n",
      "Epoch 17/20\n",
      "15000/15000 [==============================] - 10s 673us/sample - loss: 1.3837 - accuracy: 0.5013 - AUC: 0.8899 - Recall: 0.2939 - Precision: 0.7012\n",
      "Epoch 18/20\n",
      "15000/15000 [==============================] - 10s 692us/sample - loss: 1.3568 - accuracy: 0.5110 - AUC: 0.8944 - Recall: 0.3038 - Precision: 0.7086\n",
      "Epoch 19/20\n",
      "15000/15000 [==============================] - 10s 671us/sample - loss: 1.3468 - accuracy: 0.5155 - AUC: 0.8960 - Recall: 0.3154 - Precision: 0.7156\n",
      "Epoch 20/20\n",
      "15000/15000 [==============================] - 9s 617us/sample - loss: 1.3252 - accuracy: 0.5223 - AUC: 0.8993 - Recall: 0.3230 - Precision: 0.7219\n"
     ]
    }
   ],
   "source": [
    "from art.attacks.inference.membership_inference import ShadowModels\n",
    "from art.estimators.classification.keras import KerasClassifier\n",
    "\n",
    "mlp_art_classifier = KerasClassifier(mlp_model)\n",
    "\n",
    "mlp_shadow_models = ShadowModels(mlp_art_classifier, num_shadow_models=3)\n",
    "\n",
    "shadow_model_images_reshaped: ndarray = shadow_model_images.reshape(\n",
    "    -1, np.prod(shadow_model_images.shape[1:]))\n",
    "shadow_model_labels_cat: ndarray = to_categorical(\n",
    "    shadow_model_labels, num_classes=n_classes)\n",
    "\n",
    "mlp_shadow_dataset = mlp_shadow_models.generate_shadow_dataset(\n",
    "    shadow_model_images_reshaped, shadow_model_labels_cat)\n",
    "(mlp_member_x, mlp_member_y, mlp_member_predictions), (mlp_nonmember_x,\n",
    "                                                       mlp_nonmember_y, mlp_nonmember_predictions) = mlp_shadow_dataset"
   ]
  },
  {
   "cell_type": "code",
   "execution_count": 18,
   "metadata": {},
   "outputs": [
    {
     "name": "stderr",
     "output_type": "stream",
     "text": [
      "c:\\Users\\Daniel\\AppData\\Local\\Programs\\Python\\Python311\\Lib\\site-packages\\keras\\src\\engine\\training_v1.py:2335: UserWarning: `Model.state_updates` will be removed in a future version. This property should not be used in TensorFlow 2.0, as `updates` are applied automatically.\n",
      "  updates = self.state_updates\n"
     ]
    },
    {
     "name": "stdout",
     "output_type": "stream",
     "text": [
      "[0.4204, 0.4396, 0.4376]\n"
     ]
    }
   ],
   "source": [
    "# Shadow models' accuracy\n",
    "loss_and_metrics = [sm.model.evaluate(X_test_reshaped, y_test_cat) for sm in mlp_shadow_models.get_shadow_models()]\n",
    "print([e[1] for e in loss_and_metrics]) # Accuracy at index 1"
   ]
  },
  {
   "cell_type": "markdown",
   "metadata": {},
   "source": [
    "### CNN"
   ]
  },
  {
   "cell_type": "code",
   "execution_count": 19,
   "metadata": {},
   "outputs": [
    {
     "name": "stdout",
     "output_type": "stream",
     "text": [
      "Train on 15000 samples\n",
      "Epoch 1/20\n",
      "15000/15000 [==============================] - 31s 2ms/sample - loss: 2.3471 - accuracy: 0.0985\n",
      "Epoch 2/20\n",
      "15000/15000 [==============================] - 30s 2ms/sample - loss: 2.3027 - accuracy: 0.1039\n",
      "Epoch 3/20\n",
      "15000/15000 [==============================] - 32s 2ms/sample - loss: 2.3025 - accuracy: 0.1039\n",
      "Epoch 4/20\n",
      "15000/15000 [==============================] - 29s 2ms/sample - loss: 2.3026 - accuracy: 0.1008\n",
      "Epoch 5/20\n",
      "15000/15000 [==============================] - 20s 1ms/sample - loss: 2.3025 - accuracy: 0.1039\n",
      "Epoch 6/20\n",
      "15000/15000 [==============================] - 20s 1ms/sample - loss: 2.3025 - accuracy: 0.1039\n",
      "Epoch 7/20\n",
      "15000/15000 [==============================] - 20s 1ms/sample - loss: 2.3025 - accuracy: 0.1039\n",
      "Epoch 8/20\n",
      "15000/15000 [==============================] - 20s 1ms/sample - loss: 2.3025 - accuracy: 0.1039\n",
      "Epoch 9/20\n",
      "15000/15000 [==============================] - 20s 1ms/sample - loss: 2.3025 - accuracy: 0.1039\n",
      "Epoch 10/20\n",
      "15000/15000 [==============================] - 20s 1ms/sample - loss: 2.3025 - accuracy: 0.1039\n",
      "Epoch 11/20\n",
      "15000/15000 [==============================] - 20s 1ms/sample - loss: 2.3025 - accuracy: 0.1039\n",
      "Epoch 12/20\n",
      "15000/15000 [==============================] - 20s 1ms/sample - loss: 2.3025 - accuracy: 0.1039\n",
      "Epoch 13/20\n",
      "15000/15000 [==============================] - 20s 1ms/sample - loss: 2.3025 - accuracy: 0.1039\n",
      "Epoch 14/20\n",
      "15000/15000 [==============================] - 21s 1ms/sample - loss: 2.3025 - accuracy: 0.1039\n",
      "Epoch 15/20\n",
      "15000/15000 [==============================] - 20s 1ms/sample - loss: 2.3025 - accuracy: 0.1039\n",
      "Epoch 16/20\n",
      "15000/15000 [==============================] - 20s 1ms/sample - loss: 2.3025 - accuracy: 0.1039\n",
      "Epoch 17/20\n",
      "15000/15000 [==============================] - 21s 1ms/sample - loss: 2.3025 - accuracy: 0.1039\n",
      "Epoch 18/20\n",
      "15000/15000 [==============================] - 20s 1ms/sample - loss: 2.3025 - accuracy: 0.1039\n",
      "Epoch 19/20\n",
      "15000/15000 [==============================] - 20s 1ms/sample - loss: 2.3025 - accuracy: 0.1039\n",
      "Epoch 20/20\n",
      "15000/15000 [==============================] - 19s 1ms/sample - loss: 2.3025 - accuracy: 0.1039\n",
      "Train on 15000 samples\n",
      "Epoch 1/20\n",
      "15000/15000 [==============================] - 27s 2ms/sample - loss: 2.3113 - accuracy: 0.1367\n",
      "Epoch 2/20\n",
      "15000/15000 [==============================] - 20s 1ms/sample - loss: 1.8604 - accuracy: 0.3087\n",
      "Epoch 3/20\n",
      "15000/15000 [==============================] - 20s 1ms/sample - loss: 1.7186 - accuracy: 0.3573\n",
      "Epoch 4/20\n",
      "15000/15000 [==============================] - 20s 1ms/sample - loss: 1.6155 - accuracy: 0.4013\n",
      "Epoch 5/20\n",
      "15000/15000 [==============================] - 20s 1ms/sample - loss: 1.5680 - accuracy: 0.4233\n",
      "Epoch 6/20\n",
      "15000/15000 [==============================] - 20s 1ms/sample - loss: 1.5026 - accuracy: 0.4482\n",
      "Epoch 7/20\n",
      "15000/15000 [==============================] - 20s 1ms/sample - loss: 1.4741 - accuracy: 0.4563\n",
      "Epoch 8/20\n",
      "15000/15000 [==============================] - 20s 1ms/sample - loss: 1.4248 - accuracy: 0.4816\n",
      "Epoch 9/20\n",
      "15000/15000 [==============================] - 20s 1ms/sample - loss: 1.3845 - accuracy: 0.4953\n",
      "Epoch 10/20\n",
      "15000/15000 [==============================] - 20s 1ms/sample - loss: 1.3495 - accuracy: 0.5060\n",
      "Epoch 11/20\n",
      "15000/15000 [==============================] - 20s 1ms/sample - loss: 1.3031 - accuracy: 0.5265\n",
      "Epoch 12/20\n",
      "15000/15000 [==============================] - 20s 1ms/sample - loss: 1.2686 - accuracy: 0.5383\n",
      "Epoch 13/20\n",
      "15000/15000 [==============================] - 21s 1ms/sample - loss: 1.2430 - accuracy: 0.5481\n",
      "Epoch 14/20\n",
      "15000/15000 [==============================] - 21s 1ms/sample - loss: 1.2191 - accuracy: 0.5583\n",
      "Epoch 15/20\n",
      "15000/15000 [==============================] - 20s 1ms/sample - loss: 1.1920 - accuracy: 0.5684\n",
      "Epoch 16/20\n",
      "15000/15000 [==============================] - 21s 1ms/sample - loss: 1.1559 - accuracy: 0.5840\n",
      "Epoch 17/20\n",
      "15000/15000 [==============================] - 24s 2ms/sample - loss: 1.1349 - accuracy: 0.5889\n",
      "Epoch 18/20\n",
      "15000/15000 [==============================] - 21s 1ms/sample - loss: 1.1143 - accuracy: 0.5983\n",
      "Epoch 19/20\n",
      "15000/15000 [==============================] - 20s 1ms/sample - loss: 1.0840 - accuracy: 0.6061\n",
      "Epoch 20/20\n",
      "15000/15000 [==============================] - 20s 1ms/sample - loss: 1.0579 - accuracy: 0.6169\n",
      "Train on 15000 samples\n",
      "Epoch 1/20\n",
      "15000/15000 [==============================] - 20s 1ms/sample - loss: 2.2829 - accuracy: 0.1500\n",
      "Epoch 2/20\n",
      "15000/15000 [==============================] - 20s 1ms/sample - loss: 1.9002 - accuracy: 0.2839\n",
      "Epoch 3/20\n",
      "15000/15000 [==============================] - 20s 1ms/sample - loss: 1.7456 - accuracy: 0.3420\n",
      "Epoch 4/20\n",
      "15000/15000 [==============================] - 20s 1ms/sample - loss: 1.6539 - accuracy: 0.3847\n",
      "Epoch 5/20\n",
      "15000/15000 [==============================] - 20s 1ms/sample - loss: 1.5650 - accuracy: 0.4156\n",
      "Epoch 6/20\n",
      "15000/15000 [==============================] - 20s 1ms/sample - loss: 1.4946 - accuracy: 0.4496\n",
      "Epoch 7/20\n",
      "15000/15000 [==============================] - 20s 1ms/sample - loss: 1.4333 - accuracy: 0.4770\n",
      "Epoch 8/20\n",
      "15000/15000 [==============================] - 20s 1ms/sample - loss: 1.3769 - accuracy: 0.4985\n",
      "Epoch 9/20\n",
      "15000/15000 [==============================] - 20s 1ms/sample - loss: 1.3314 - accuracy: 0.5137\n",
      "Epoch 10/20\n",
      "15000/15000 [==============================] - 20s 1ms/sample - loss: 1.3004 - accuracy: 0.5283\n",
      "Epoch 11/20\n",
      "15000/15000 [==============================] - 20s 1ms/sample - loss: 1.2609 - accuracy: 0.5443\n",
      "Epoch 12/20\n",
      "15000/15000 [==============================] - 20s 1ms/sample - loss: 1.2141 - accuracy: 0.5625\n",
      "Epoch 13/20\n",
      "15000/15000 [==============================] - 21s 1ms/sample - loss: 1.1770 - accuracy: 0.5757\n",
      "Epoch 14/20\n",
      "15000/15000 [==============================] - 20s 1ms/sample - loss: 1.1398 - accuracy: 0.5911\n",
      "Epoch 15/20\n",
      "15000/15000 [==============================] - 20s 1ms/sample - loss: 1.1081 - accuracy: 0.5970\n",
      "Epoch 16/20\n",
      "15000/15000 [==============================] - 20s 1ms/sample - loss: 1.0781 - accuracy: 0.6103\n",
      "Epoch 17/20\n",
      "15000/15000 [==============================] - 20s 1ms/sample - loss: 1.0492 - accuracy: 0.6191\n",
      "Epoch 18/20\n",
      "15000/15000 [==============================] - 20s 1ms/sample - loss: 1.0210 - accuracy: 0.6331\n",
      "Epoch 19/20\n",
      "15000/15000 [==============================] - 20s 1ms/sample - loss: 0.9826 - accuracy: 0.6479\n",
      "Epoch 20/20\n",
      "15000/15000 [==============================] - 20s 1ms/sample - loss: 0.9791 - accuracy: 0.6487\n"
     ]
    }
   ],
   "source": [
    "from art.attacks.inference.membership_inference import ShadowModels\n",
    "from art.estimators.classification.keras import KerasClassifier\n",
    "\n",
    "cnn_art_classifier = KerasClassifier(cnn_model)\n",
    "\n",
    "cnn_shadow_models = ShadowModels(cnn_art_classifier, num_shadow_models=3)\n",
    "\n",
    "cnn_shadow_dataset = cnn_shadow_models.generate_shadow_dataset(\n",
    "    shadow_model_images, shadow_model_labels)\n",
    "(cnn_member_x, cnn_member_y, cnn_member_predictions), (cnn_nonmember_x,\n",
    "                                                       cnn_nonmember_y, cnn_nonmember_predictions) = cnn_shadow_dataset"
   ]
  },
  {
   "cell_type": "code",
   "execution_count": 21,
   "metadata": {},
   "outputs": [
    {
     "name": "stdout",
     "output_type": "stream",
     "text": [
      "[0.097333334, 0.6036, 0.6432]\n"
     ]
    }
   ],
   "source": [
    "# Shadow models' accuracy\n",
    "loss_and_metrics = [sm.model.evaluate(X_test, y_test) for sm in cnn_shadow_models.get_shadow_models()]\n",
    "print([e[1] for e in loss_and_metrics]) # Accuracy at index 1"
   ]
  },
  {
   "cell_type": "markdown",
   "metadata": {},
   "source": [
    "## Perform the black-box attack"
   ]
  },
  {
   "cell_type": "markdown",
   "metadata": {},
   "source": [
    "Using the attack models you have built on the previous step, perform the inference attack over the training and testing data to guess whether they belong to the training set or not.\n",
    "\n",
    "Assess the performance for both training samples (members) and non-training samples (non-members)"
   ]
  },
  {
   "cell_type": "code",
   "execution_count": 22,
   "metadata": {},
   "outputs": [],
   "source": [
    "from art.attacks.inference.membership_inference import MembershipInferenceBlackBox"
   ]
  },
  {
   "cell_type": "code",
   "execution_count": 23,
   "metadata": {},
   "outputs": [],
   "source": [
    "def calc_precision_recall(predicted, actual, positive_value=1):\n",
    "    score = 0  # both predicted and actual are positive\n",
    "    num_positive_predicted = 0  # predicted positive\n",
    "    num_positive_actual = 0  # actual positive\n",
    "    for i in range(len(predicted)):\n",
    "        if predicted[i] == positive_value:\n",
    "            num_positive_predicted += 1\n",
    "        if actual[i] == positive_value:\n",
    "            num_positive_actual += 1\n",
    "        if predicted[i] == actual[i]:\n",
    "            if predicted[i] == positive_value:\n",
    "                score += 1\n",
    "    \n",
    "    if num_positive_predicted == 0:\n",
    "        precision = 1\n",
    "    else:\n",
    "        precision = score / num_positive_predicted  # the fraction of predicted “Yes” responses that are correct\n",
    "    if num_positive_actual == 0:\n",
    "        recall = 1\n",
    "    else:\n",
    "        recall = score / num_positive_actual  # the fraction of “Yes” responses that are predicted correctly\n",
    "\n",
    "    return precision, recall"
   ]
  },
  {
   "cell_type": "markdown",
   "metadata": {},
   "source": [
    "### MLP"
   ]
  },
  {
   "cell_type": "code",
   "execution_count": 24,
   "metadata": {},
   "outputs": [],
   "source": [
    "mlp_attack = MembershipInferenceBlackBox(mlp_art_classifier, attack_model_type=\"rf\")\n",
    "mlp_attack.fit(mlp_member_x, mlp_member_y, mlp_nonmember_x, mlp_nonmember_y, mlp_member_predictions, mlp_nonmember_predictions)"
   ]
  },
  {
   "cell_type": "code",
   "execution_count": 25,
   "metadata": {},
   "outputs": [
    {
     "name": "stderr",
     "output_type": "stream",
     "text": [
      "c:\\Users\\Daniel\\AppData\\Local\\Programs\\Python\\Python311\\Lib\\site-packages\\keras\\src\\engine\\training_v1.py:2359: UserWarning: `Model.state_updates` will be removed in a future version. This property should not be used in TensorFlow 2.0, as `updates` are applied automatically.\n",
      "  updates=self.state_updates,\n"
     ]
    },
    {
     "name": "stdout",
     "output_type": "stream",
     "text": [
      "Attack Member Acc: 0.6548\n",
      "Attack Non-Member Acc: 0.5262666666666667\n",
      "Attack Accuracy: 0.6226666666666667\n"
     ]
    }
   ],
   "source": [
    "mlp_member_infer = mlp_attack.infer(X_train_reshaped, y_train_cat)\n",
    "mlp_nonmember_infer = mlp_attack.infer(X_test_reshaped, y_test_cat)\n",
    "mlp_member_acc = np.sum(mlp_member_infer) / len(X_train_reshaped)\n",
    "mlp_nonmember_acc = 1 - np.sum(mlp_nonmember_infer) / len(X_test_reshaped)\n",
    "mlp_acc = (mlp_member_acc * len(X_train_reshaped) + mlp_nonmember_acc * len(X_test_reshaped)) / (len(X_train_reshaped) + len(X_test_reshaped))\n",
    "print('Attack Member Acc:', mlp_member_acc)\n",
    "print('Attack Non-Member Acc:', mlp_nonmember_acc)\n",
    "print('Attack Accuracy:', mlp_acc)"
   ]
  },
  {
   "cell_type": "code",
   "execution_count": 26,
   "metadata": {},
   "outputs": [
    {
     "name": "stdout",
     "output_type": "stream",
     "text": [
      "(0.8056983484633052, 0.6548)\n"
     ]
    }
   ],
   "source": [
    "print(calc_precision_recall(np.concatenate((mlp_member_infer, mlp_nonmember_infer)), \n",
    "                            np.concatenate((np.ones(len(mlp_member_infer)), np.zeros(len(mlp_nonmember_infer))))))"
   ]
  },
  {
   "cell_type": "markdown",
   "metadata": {},
   "source": [
    "### CNN"
   ]
  },
  {
   "cell_type": "code",
   "execution_count": 27,
   "metadata": {},
   "outputs": [],
   "source": [
    "cnn_attack = MembershipInferenceBlackBox(cnn_art_classifier, attack_model_type=\"rf\")\n",
    "cnn_attack.fit(cnn_member_x, cnn_member_y, cnn_nonmember_x, cnn_nonmember_y, cnn_member_predictions, cnn_nonmember_predictions)"
   ]
  },
  {
   "cell_type": "code",
   "execution_count": 29,
   "metadata": {},
   "outputs": [
    {
     "name": "stderr",
     "output_type": "stream",
     "text": [
      "c:\\Users\\Daniel\\AppData\\Local\\Programs\\Python\\Python311\\Lib\\site-packages\\keras\\src\\engine\\training_v1.py:2359: UserWarning: `Model.state_updates` will be removed in a future version. This property should not be used in TensorFlow 2.0, as `updates` are applied automatically.\n",
      "  updates=self.state_updates,\n"
     ]
    },
    {
     "name": "stdout",
     "output_type": "stream",
     "text": [
      "Attack Member Acc: 0.5958222222222223\n",
      "Attack Non-Member Acc: 0.4524\n",
      "Attack Accuracy: 0.5599666666666666\n"
     ]
    }
   ],
   "source": [
    "cnn_member_infer = cnn_attack.infer(X_train, y_train)\n",
    "cnn_nonmember_infer = cnn_attack.infer(X_test, y_test)\n",
    "cnn_member_acc = np.sum(cnn_member_infer) / len(X_train)\n",
    "cnn_nonmember_acc = 1 - np.sum(cnn_nonmember_infer) / len(X_test)\n",
    "cnn_acc = (cnn_member_acc * len(X_train) + cnn_nonmember_acc * len(X_test)) / (len(X_train) + len(X_test))\n",
    "print('Attack Member Acc:', cnn_member_acc)\n",
    "print('Attack Non-Member Acc:', cnn_nonmember_acc)\n",
    "print('Attack Accuracy:', cnn_acc)"
   ]
  },
  {
   "cell_type": "code",
   "execution_count": 30,
   "metadata": {},
   "outputs": [
    {
     "name": "stdout",
     "output_type": "stream",
     "text": [
      "(0.7654884942614059, 0.5958222222222223)\n"
     ]
    }
   ],
   "source": [
    "print(calc_precision_recall(np.concatenate((cnn_member_infer, cnn_nonmember_infer)), \n",
    "                            np.concatenate((np.ones(len(cnn_member_infer)), np.zeros(len(cnn_nonmember_infer))))))"
   ]
  },
  {
   "cell_type": "markdown",
   "metadata": {},
   "source": [
    "## Results"
   ]
  },
  {
   "cell_type": "markdown",
   "metadata": {},
   "source": [
    "### Data\n",
    "\n",
    "The data set used for this lab was the **CIFAR10** image dataset. this dataset consists of **60,000** real photographs divided into **10 classes**.\n",
    "\n",
    "The class used to import the data already gives a partition of the data, so first I reunited the data in a unique dataframe to make my own partition. \n",
    "\n",
    "Once all the images were grouped in the same dataframe, I splitted this in half, making one group for train and test and the other for the shadow models. The first group was then splitted again to use the 75% to train and the 25% to test.\n",
    "\n",
    "|Partitions|Samples|\n",
    "|:--:|:--:|\n",
    "|Training sample| 22500|\n",
    "|Test sample| 7500|\n",
    "|Shadow sample| 30000|"
   ]
  },
  {
   "cell_type": "markdown",
   "metadata": {},
   "source": [
    "### MLP attack\n",
    "\n",
    "|Metric| Value|\n",
    "|:----:|:--|\n",
    "|Attack Member Acc | 0.6548 |\n",
    "|Attack Non-Member Acc| 0.5262666666666667|\n",
    "|Attack Accuracy| 0.6226666666666667|"
   ]
  },
  {
   "cell_type": "markdown",
   "metadata": {},
   "source": [
    "### CNN attack\n",
    "|Metric|Value|\n",
    "|:----:|:--|\n",
    "|Attack Member Acc | 0.5958222222222223 |\n",
    "|Attack Non-Member Acc| 0.4524|\n",
    "|Attack Accuracy| 0.5599666666666666|"
   ]
  },
  {
   "cell_type": "markdown",
   "metadata": {},
   "source": [
    "### Discussion\n",
    "\n",
    "- It is shown that the MLP attack obtained better results than the CNN attack.\n",
    "- In both cases the attack on member samples obtained better results.\n",
    "- The MLP graph indicates that the model is learning adequately, but is not as good at generalizing new data, since the test curve does not exceed 45%.\n",
    "- The CNN graph, for its part, shows that the model scales appropriately and is also able to classify new data successfully."
   ]
  }
 ],
 "metadata": {
  "kernelspec": {
   "display_name": "Python 3 (ipykernel)",
   "language": "python",
   "name": "python3"
  },
  "language_info": {
   "codemirror_mode": {
    "name": "ipython",
    "version": 3
   },
   "file_extension": ".py",
   "mimetype": "text/x-python",
   "name": "python",
   "nbconvert_exporter": "python",
   "pygments_lexer": "ipython3",
   "version": "3.11.5"
  }
 },
 "nbformat": 4,
 "nbformat_minor": 2
}
